{
 "cells": [
  {
   "cell_type": "markdown",
   "metadata": {},
   "source": [
    "### Google Names Batch Search\n",
    "\n",
    "By: Shirsho Dasgupta (2021) "
   ]
  },
  {
   "cell_type": "markdown",
   "metadata": {},
   "source": [
    "The Miami Herald often works on investigations based on corporate records — sometimes public, at other times leaked. These records often have — or reporters can make it themselves — lists of companies, their owners and/or directors and other officers. \n",
    "\n",
    "This project was initiated to automate an initial search on who these people are. \n",
    "\n",
    "The code imports a spreadsheet with a list of names then searches for them in Google. It then extracts the first few lines about that person that come up as flashcard in a regular Google search.  \n",
    "\n",
    "An short example is attached. \n",
    "\n",
    "The file that is imported is names.csv\n",
    "\n",
    "The resulting file is search_results.csv\n",
    "\n",
    "##### Notes:\n",
    "\n",
    "1. This search is only to be used as a starting point. The results are not fully confirmed. Some of the ways in which one can obtain a complete confirmation is to match DOBs or photos. \n",
    "\n",
    "2. Overloading Google with queries can make their networks label the code as a bot and block access. Care must be taken to break the searches up and have sleep times between each iteration."
   ]
  },
  {
   "cell_type": "markdown",
   "metadata": {},
   "source": [
    "### Importing libraries"
   ]
  },
  {
   "cell_type": "code",
   "execution_count": 1,
   "metadata": {},
   "outputs": [],
   "source": [
    "import requests\n",
    "import bs4\n",
    "import pandas as pd\n",
    "import time"
   ]
  },
  {
   "cell_type": "markdown",
   "metadata": {},
   "source": [
    "### Importing spreadsheet for batch of names to be searched"
   ]
  },
  {
   "cell_type": "code",
   "execution_count": 2,
   "metadata": {},
   "outputs": [
    {
     "data": {
      "text/html": [
       "<div>\n",
       "<style scoped>\n",
       "    .dataframe tbody tr th:only-of-type {\n",
       "        vertical-align: middle;\n",
       "    }\n",
       "\n",
       "    .dataframe tbody tr th {\n",
       "        vertical-align: top;\n",
       "    }\n",
       "\n",
       "    .dataframe thead th {\n",
       "        text-align: right;\n",
       "    }\n",
       "</style>\n",
       "<table border=\"1\" class=\"dataframe\">\n",
       "  <thead>\n",
       "    <tr style=\"text-align: right;\">\n",
       "      <th></th>\n",
       "      <th>Names</th>\n",
       "    </tr>\n",
       "  </thead>\n",
       "  <tbody>\n",
       "    <tr>\n",
       "      <th>0</th>\n",
       "      <td>Donald Trump</td>\n",
       "    </tr>\n",
       "    <tr>\n",
       "      <th>1</th>\n",
       "      <td>Mark Zuckerberg</td>\n",
       "    </tr>\n",
       "    <tr>\n",
       "      <th>2</th>\n",
       "      <td>Tony Blair</td>\n",
       "    </tr>\n",
       "    <tr>\n",
       "      <th>3</th>\n",
       "      <td>Joe Biden</td>\n",
       "    </tr>\n",
       "    <tr>\n",
       "      <th>4</th>\n",
       "      <td>Steve Jobs</td>\n",
       "    </tr>\n",
       "  </tbody>\n",
       "</table>\n",
       "</div>"
      ],
      "text/plain": [
       "             Names\n",
       "0     Donald Trump\n",
       "1  Mark Zuckerberg\n",
       "2       Tony Blair\n",
       "3        Joe Biden\n",
       "4       Steve Jobs"
      ]
     },
     "execution_count": 2,
     "metadata": {},
     "output_type": "execute_result"
    }
   ],
   "source": [
    "searchlist = pd.read_csv(\"names.csv\")  \n",
    "searchlist.head(5)"
   ]
  },
  {
   "cell_type": "markdown",
   "metadata": {},
   "source": [
    "### Preparing dataframe and running search"
   ]
  },
  {
   "cell_type": "code",
   "execution_count": 3,
   "metadata": {},
   "outputs": [],
   "source": [
    "## adding columns to be filled in from google\n",
    "searchlist[\"Googled_Names\"] = \" \"\n",
    "searchlist[\"Descriptor_1\"] = \" \"\n",
    "searchlist[\"Descriptor_2\"] = \" \"\n",
    "searchlist[\"Descriptor_3\"] = \" \"\n",
    "searchlist[\"Descriptor_4\"] = \" \"\n",
    "searchlist[\"Descriptor_5\"] = \" \""
   ]
  },
  {
   "cell_type": "code",
   "execution_count": 4,
   "metadata": {},
   "outputs": [],
   "source": [
    "## storing number of rows in the spreadsheet\n",
    "rows = searchlist.shape[0] \n",
    "\n",
    "## setting up loop to run through each row\n",
    "for i in range(0, rows):\n",
    "    \n",
    "    ## concatenating with \"+\" sign if a cell has multiple words for google search url pattern\n",
    "    txt = searchlist[\"Names\"][i]\n",
    "    terms = \"+\"\n",
    "    x = txt.split()\n",
    "    terms = terms.join(x)\n",
    "    \n",
    "    ## storing url\n",
    "    url = \"https://google.com/search?q=\" + terms\n",
    "    \n",
    "    ## getting url and converting for scrape\n",
    "    request_result = requests.get(url)\n",
    "    soup = bs4.BeautifulSoup(request_result.text, \"html.parser\")\n",
    "    \n",
    "    ## setting up exception handling, if there is a result the search details are stored, if not, loops moves onto next row\n",
    "    try:\n",
    "        \n",
    "        ## finds \"div\" tag and the class that stores the names and descriptors; note: this sometimes changes and should be checked and modified accordingly\n",
    "        heading_object = soup.find_all(\"div\", class_= \"BNeawe\")\n",
    "        \n",
    "        ## runs through each of the entries; relevant information is generally stored in the first six cells\n",
    "        for info in heading_object:\n",
    "            names = heading_object\n",
    "        \n",
    "        ## writes results into the relevant results column\n",
    "        searchlist[\"Googled_Names\"][i] = names[0].text\n",
    "        searchlist[\"Descriptor_1\"][i] = names[1].text\n",
    "        searchlist[\"Descriptor_2\"][i] = names[2].text\n",
    "        searchlist[\"Descriptor_3\"][i] = names[3].text\n",
    "        searchlist[\"Descriptor_4\"][i] = names[5].text\n",
    "        searchlist[\"Descriptor_5\"][i] = names[6].text\n",
    "    except:\n",
    "        i = i + 1\n",
    "        \n",
    "    ## sleeper ensures that google does not mistake script for a bot and blocks access    \n",
    "    time.sleep(0.2)   "
   ]
  },
  {
   "cell_type": "code",
   "execution_count": 5,
   "metadata": {},
   "outputs": [
    {
     "data": {
      "text/html": [
       "<div>\n",
       "<style scoped>\n",
       "    .dataframe tbody tr th:only-of-type {\n",
       "        vertical-align: middle;\n",
       "    }\n",
       "\n",
       "    .dataframe tbody tr th {\n",
       "        vertical-align: top;\n",
       "    }\n",
       "\n",
       "    .dataframe thead th {\n",
       "        text-align: right;\n",
       "    }\n",
       "</style>\n",
       "<table border=\"1\" class=\"dataframe\">\n",
       "  <thead>\n",
       "    <tr style=\"text-align: right;\">\n",
       "      <th></th>\n",
       "      <th>Names</th>\n",
       "      <th>Googled_Names</th>\n",
       "      <th>Descriptor_1</th>\n",
       "      <th>Descriptor_2</th>\n",
       "      <th>Descriptor_3</th>\n",
       "      <th>Descriptor_4</th>\n",
       "      <th>Descriptor_5</th>\n",
       "    </tr>\n",
       "  </thead>\n",
       "  <tbody>\n",
       "    <tr>\n",
       "      <th>0</th>\n",
       "      <td>Donald Trump</td>\n",
       "      <td>Donald Trump</td>\n",
       "      <td>45th U.S. President · donaldjtrump.com</td>\n",
       "      <td>Born: June 14, 1946 (age 75 years), Jamaica Ho...</td>\n",
       "      <td>Height: 6′ 3″</td>\n",
       "      <td>Party: Republican Party</td>\n",
       "      <td>Spouse: Melania Trump (m. 2005), Marla Maples ...</td>\n",
       "    </tr>\n",
       "    <tr>\n",
       "      <th>1</th>\n",
       "      <td>Mark Zuckerberg</td>\n",
       "      <td>Mark Zuckerberg</td>\n",
       "      <td>Chief Executive Officer of Facebook</td>\n",
       "      <td>View all</td>\n",
       "      <td>Mark Elliot Zuckerberg is an American media ma...</td>\n",
       "      <td>Net worth: 122.7 billion USD (2021)</td>\n",
       "      <td>Born: May 14, 1984 (age 37 years), White Plain...</td>\n",
       "    </tr>\n",
       "    <tr>\n",
       "      <th>2</th>\n",
       "      <td>Tony Blair</td>\n",
       "      <td>Tony Blair</td>\n",
       "      <td>Former Prime Minister of the United Kingdom</td>\n",
       "      <td>Anthony Charles Lynton Blair is a British poli...</td>\n",
       "      <td>Anthony Charles Lynton Blair is a British poli...</td>\n",
       "      <td>Height: 6′ 0″</td>\n",
       "      <td>Spouse: Cherie Blair (m. 1980)</td>\n",
       "    </tr>\n",
       "    <tr>\n",
       "      <th>3</th>\n",
       "      <td>Joe Biden</td>\n",
       "      <td>Joe Biden</td>\n",
       "      <td>46th U.S. President · whitehouse.gov</td>\n",
       "      <td>Joseph Robinette Biden Jr. is an American poli...</td>\n",
       "      <td>Joseph Robinette Biden Jr. is an American poli...</td>\n",
       "      <td>Born: November 20, 1942 (age 78 years), Scrant...</td>\n",
       "      <td>Height: 6′ 0″</td>\n",
       "    </tr>\n",
       "    <tr>\n",
       "      <th>4</th>\n",
       "      <td>Steve Jobs</td>\n",
       "      <td>Steve Jobs</td>\n",
       "      <td>American business magnate</td>\n",
       "      <td>View all</td>\n",
       "      <td>Steven Paul Jobs was an American business magn...</td>\n",
       "      <td>Born: February 24, 1955, San Francisco, CA</td>\n",
       "      <td>Died: October 5, 2011, Palo Alto, CA</td>\n",
       "    </tr>\n",
       "  </tbody>\n",
       "</table>\n",
       "</div>"
      ],
      "text/plain": [
       "             Names    Googled_Names  \\\n",
       "0     Donald Trump     Donald Trump   \n",
       "1  Mark Zuckerberg  Mark Zuckerberg   \n",
       "2       Tony Blair       Tony Blair   \n",
       "3        Joe Biden        Joe Biden   \n",
       "4       Steve Jobs       Steve Jobs   \n",
       "\n",
       "                                  Descriptor_1  \\\n",
       "0       45th U.S. President · donaldjtrump.com   \n",
       "1          Chief Executive Officer of Facebook   \n",
       "2  Former Prime Minister of the United Kingdom   \n",
       "3         46th U.S. President · whitehouse.gov   \n",
       "4                    American business magnate   \n",
       "\n",
       "                                        Descriptor_2  \\\n",
       "0  Born: June 14, 1946 (age 75 years), Jamaica Ho...   \n",
       "1                                           View all   \n",
       "2  Anthony Charles Lynton Blair is a British poli...   \n",
       "3  Joseph Robinette Biden Jr. is an American poli...   \n",
       "4                                           View all   \n",
       "\n",
       "                                        Descriptor_3  \\\n",
       "0                                      Height: 6′ 3″   \n",
       "1  Mark Elliot Zuckerberg is an American media ma...   \n",
       "2  Anthony Charles Lynton Blair is a British poli...   \n",
       "3  Joseph Robinette Biden Jr. is an American poli...   \n",
       "4  Steven Paul Jobs was an American business magn...   \n",
       "\n",
       "                                        Descriptor_4  \\\n",
       "0                            Party: Republican Party   \n",
       "1                Net worth: 122.7 billion USD (2021)   \n",
       "2                                      Height: 6′ 0″   \n",
       "3  Born: November 20, 1942 (age 78 years), Scrant...   \n",
       "4         Born: February 24, 1955, San Francisco, CA   \n",
       "\n",
       "                                        Descriptor_5  \n",
       "0  Spouse: Melania Trump (m. 2005), Marla Maples ...  \n",
       "1  Born: May 14, 1984 (age 37 years), White Plain...  \n",
       "2                     Spouse: Cherie Blair (m. 1980)  \n",
       "3                                      Height: 6′ 0″  \n",
       "4               Died: October 5, 2011, Palo Alto, CA  "
      ]
     },
     "execution_count": 5,
     "metadata": {},
     "output_type": "execute_result"
    }
   ],
   "source": [
    "## displaying results\n",
    "searchlist.head(5)"
   ]
  },
  {
   "cell_type": "markdown",
   "metadata": {},
   "source": [
    "### Exporting spreadsheet"
   ]
  },
  {
   "cell_type": "code",
   "execution_count": 6,
   "metadata": {},
   "outputs": [],
   "source": [
    "searchlist.to_csv(\"search_results.csv\", index = False)"
   ]
  }
 ],
 "metadata": {
  "kernelspec": {
   "display_name": "Python 3",
   "language": "python",
   "name": "python3"
  },
  "language_info": {
   "codemirror_mode": {
    "name": "ipython",
    "version": 3
   },
   "file_extension": ".py",
   "mimetype": "text/x-python",
   "name": "python",
   "nbconvert_exporter": "python",
   "pygments_lexer": "ipython3",
   "version": "3.8.3"
  }
 },
 "nbformat": 4,
 "nbformat_minor": 4
}
